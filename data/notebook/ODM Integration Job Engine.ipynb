{
 "cells": [
  {
   "cell_type": "markdown",
   "metadata": {},
   "source": [
    "# Large scale ODM simulation\n",
    "This notebook shows how to execute large scale ODM simulations on a Spark kernel."
   ]
  },
  {
   "cell_type": "code",
   "execution_count": 1,
   "metadata": {},
   "outputs": [
    {
     "name": "stdout",
     "output_type": "stream",
     "text": [
      "Waiting for a Spark session to start...\n",
      "Spark Initialization Done! ApplicationId = app-20201008172152-0000\n",
      "KERNEL_ID = bcaabc4f-bea3-4e71-8077-00f4b92340aa\n"
     ]
    }
   ],
   "source": [
    "import os\n",
    "import pandas as pd\n",
    "from project_lib import Project\n",
    "project = Project(os.environ['PROJECT_ID'])"
   ]
  },
  {
   "cell_type": "markdown",
   "metadata": {},
   "source": [
    "## Load the simulation configuration\n",
    "* ODM RuleApp and XOM jar files\n",
    "* Simulation scenario file\n",
    "* Target ruleset path\n",
    "* Simulation output file"
   ]
  },
  {
   "cell_type": "code",
   "execution_count": 2,
   "metadata": {},
   "outputs": [
    {
     "data": {
      "text/html": [
       "<div>\n",
       "<style scoped>\n",
       "    .dataframe tbody tr th:only-of-type {\n",
       "        vertical-align: middle;\n",
       "    }\n",
       "\n",
       "    .dataframe tbody tr th {\n",
       "        vertical-align: top;\n",
       "    }\n",
       "\n",
       "    .dataframe thead th {\n",
       "        text-align: right;\n",
       "    }\n",
       "</style>\n",
       "<table border=\"1\" class=\"dataframe\">\n",
       "  <thead>\n",
       "    <tr style=\"text-align: right;\">\n",
       "      <th></th>\n",
       "      <th>app_jars</th>\n",
       "      <th>dataset</th>\n",
       "      <th>resource_path</th>\n",
       "      <th>output_filename</th>\n",
       "    </tr>\n",
       "  </thead>\n",
       "  <tbody>\n",
       "    <tr>\n",
       "      <th>0</th>\n",
       "      <td>miniloan</td>\n",
       "      <td>miniloan_simulation_dataset_1.csv</td>\n",
       "      <td>/mydeployment/Miniloan_ServiceRuleset</td>\n",
       "      <td>miniloan_simulation_result_1.csv</td>\n",
       "    </tr>\n",
       "    <tr>\n",
       "      <th>1</th>\n",
       "      <td>miniloan</td>\n",
       "      <td>miniloan_simulation_dataset_2.csv</td>\n",
       "      <td>/mydeployment/Miniloan_ServiceRuleset</td>\n",
       "      <td>miniloan_simulation_result_2.csv</td>\n",
       "    </tr>\n",
       "    <tr>\n",
       "      <th>2</th>\n",
       "      <td>miniloan</td>\n",
       "      <td>miniloan_simulation_dataset_3.csv</td>\n",
       "      <td>/mydeployment/Miniloan_ServiceRuleset</td>\n",
       "      <td>miniloan_simulation_result_3.csv</td>\n",
       "    </tr>\n",
       "  </tbody>\n",
       "</table>\n",
       "</div>"
      ],
      "text/plain": [
       "   app_jars                            dataset  \\\n",
       "0  miniloan  miniloan_simulation_dataset_1.csv   \n",
       "1  miniloan  miniloan_simulation_dataset_2.csv   \n",
       "2  miniloan  miniloan_simulation_dataset_3.csv   \n",
       "\n",
       "                           resource_path                   output_filename  \n",
       "0  /mydeployment/Miniloan_ServiceRuleset  miniloan_simulation_result_1.csv  \n",
       "1  /mydeployment/Miniloan_ServiceRuleset  miniloan_simulation_result_2.csv  \n",
       "2  /mydeployment/Miniloan_ServiceRuleset  miniloan_simulation_result_3.csv  "
      ]
     },
     "execution_count": 2,
     "metadata": {},
     "output_type": "execute_result"
    }
   ],
   "source": [
    "sim_master = 'miniloan_simulation_master.csv' # set to default simulation master file\n",
    "if 'SIM_MASTER_DATA' in os.environ:\n",
    "    sim_master = os.environ['SIM_MASTER_DATA']\n",
    "    \n",
    "sim = pd.read_csv(project.get_file(sim_master))\n",
    "sim.head()"
   ]
  },
  {
   "cell_type": "code",
   "execution_count": 3,
   "metadata": {},
   "outputs": [
    {
     "data": {
      "text/plain": [
       "{'miniloan-ruleapp.jar', 'miniloan-xom.jar'}"
      ]
     },
     "execution_count": 3,
     "metadata": {},
     "output_type": "execute_result"
    }
   ],
   "source": [
    "##\n",
    "# load app jar\n",
    "app_jars = set([])\n",
    "for jar in sim.app_jars:\n",
    "    app_jars.add(jar+'-ruleapp.jar')\n",
    "    app_jars.add(jar+'-xom.jar')\n",
    "    \n",
    "app_jars"
   ]
  },
  {
   "cell_type": "markdown",
   "metadata": {},
   "source": [
    "## Initialize Python environment with ODM engine jars and ODM model archives\n",
    "\n",
    "   * Create a Spark Session\n",
    "   * Initialize the Python environment"
   ]
  },
  {
   "cell_type": "code",
   "execution_count": 4,
   "metadata": {},
   "outputs": [
    {
     "name": "stdout",
     "output_type": "stream",
     "text": [
      "j2ee_connector-1_5-fr.jar  jrules-res-execution.jar  miniloan-xom.jar\r\n",
      "jrules-engine.jar          miniloan-ruleapp.jar\r\n"
     ]
    }
   ],
   "source": [
    "##\n",
    "# write all jars to $CWD/user-libs/spark2\n",
    "# the path is already in \n",
    "\n",
    "odm_jars = ['j2ee_connector-1_5-fr.jar', 'jrules-res-execution.jar', 'jrules-engine.jar']\n",
    "for jar in odm_jars:\n",
    "    tmp = project.get_file(jar)\n",
    "    filename = '%s/user-libs/spark2/%s'%(os.getcwd(),jar)\n",
    "    with open(filename, 'wb') as f:\n",
    "        f.write(tmp.read())\n",
    "\n",
    "for jar in app_jars:\n",
    "    tmp = project.get_file(jar)\n",
    "    filename = '%s/user-libs/spark2/%s'%(os.getcwd(),jar)\n",
    "    with open(filename, 'wb') as f:\n",
    "        f.write(tmp.read())\n",
    "\n",
    "%ls user-libs/spark2"
   ]
  },
  {
   "cell_type": "code",
   "execution_count": 5,
   "metadata": {},
   "outputs": [
    {
     "data": {
      "text/html": [
       "<script>Jupyter.notebook.kernel.restart()</script>"
      ],
      "text/plain": [
       "<IPython.core.display.HTML object>"
      ]
     },
     "execution_count": 5,
     "metadata": {},
     "output_type": "execute_result"
    }
   ],
   "source": [
    "##\n",
    "# restart kernel to pick up jars\n",
    "from IPython.core.display import HTML\n",
    "HTML(\"<script>Jupyter.notebook.kernel.restart()</script>\")"
   ]
  },
  {
   "cell_type": "code",
   "execution_count": 6,
   "metadata": {},
   "outputs": [],
   "source": [
    "assert sc._jvm.ilog"
   ]
  },
  {
   "cell_type": "markdown",
   "metadata": {},
   "source": [
    "## Run simulation\n",
    "1. Define the ODM execution function\n",
    "2. Run the simulation scenarios"
   ]
  },
  {
   "cell_type": "code",
   "execution_count": 7,
   "metadata": {},
   "outputs": [],
   "source": [
    "import pandas as pd\n",
    "import numpy as np\n",
    "from pyspark.sql import SQLContext\n",
    "from  pyspark.sql import Row\n",
    "from project_lib import Project\n",
    "project = Project(os.environ['PROJECT_ID'])"
   ]
  },
  {
   "cell_type": "markdown",
   "metadata": {},
   "source": [
    "#### 1. Define the ODM execution function"
   ]
  },
  {
   "cell_type": "code",
   "execution_count": 8,
   "metadata": {},
   "outputs": [],
   "source": [
    "##\n",
    "# create ODM session\n",
    "def CreateODMSession(sc):\n",
    "    if not hasattr(CreateODMSession, \"fac\"):\n",
    "        sc = SparkSession.builder.getOrCreate()\n",
    "        factoryConfig = sc._jvm.ilog.rules.res.session.IlrJ2SESessionFactory.createDefaultConfig()\n",
    "        xuConfig = factoryConfig.getXUConfig();\n",
    "        xuConfig.setLogAutoFlushEnabled(True);\n",
    "        xuConfig.getPersistenceConfig().setPersistenceType(sc._jvm.ilog.rules.res.session.config.IlrPersistenceType.MEMORY);\n",
    "        xuConfig.getManagedXOMPersistenceConfig().setPersistenceType(sc._jvm.ilog.rules.res.session.config.IlrPersistenceType.MEMORY);\n",
    "        CreateODMSession.fac=sc._jvm.ilog.rules.res.session.IlrJ2SESessionFactory(factoryConfig)    \n",
    "    return CreateODMSession.fac\n",
    "\n",
    "##\n",
    "# define UDF\n",
    "def execute(row, parse_path):\n",
    "    sc = SparkSession.builder.getOrCreate()\n",
    "    factory=CreateODMSession(sc)\n",
    "\n",
    "    sessionRequest = factory.createRequest()\n",
    "    sessionRequest.setRulesetPath(sc._jvm.ilog.rules.res.model.IlrPath.parsePath(parse_path))\n",
    "    # Ensure latest version of the ruleset is taken into account\n",
    "    sessionRequest.setForceUptodate(True)\n",
    "    # Set the input parameters for the execution of the rules\n",
    "    \n",
    "    inputParameters = sc._jvm.java.util.HashMap()\n",
    "    payload = sc._jvm.miniloan.Payload()\n",
    "    #\n",
    "    # Iterate the following statment on each element of the columns header and the row\n",
    "    #\n",
    "    kvp = row.asDict()\n",
    "    for key in kvp:  \n",
    "        payload.setValue(key, str(kvp[key]))\n",
    "    # Set parameters\n",
    "    inputParameters[\"payload\"]=payload\n",
    "    sessionRequest.setInputParameters(inputParameters)\n",
    "    session = factory.createStatelessSession()\n",
    "    # Perform ODM Execution \n",
    "    response = session.execute(sessionRequest)\n",
    "    col= response.getOutputParameters()\n",
    "    result= response.getOutputParameters().get(\"payload\")\n",
    "    return Row(isApproved=result.getStringValue(\"approved\"),firedRulesCount=col['ilog.rules.firedRulesCount'])"
   ]
  },
  {
   "cell_type": "markdown",
   "metadata": {},
   "source": [
    "#### 2. Run the simulation scenarios"
   ]
  },
  {
   "cell_type": "code",
   "execution_count": 9,
   "metadata": {},
   "outputs": [],
   "source": [
    "sim_master = 'miniload_simulation_master.csv' # set to default simulation master file\n",
    "if 'SIM_MASTER_DATA' in os.environ:\n",
    "    sim_master = os.environ['SIM_MASTER_DATA']"
   ]
  },
  {
   "cell_type": "code",
   "execution_count": 10,
   "metadata": {},
   "outputs": [
    {
     "data": {
      "text/html": [
       "<div>\n",
       "<style scoped>\n",
       "    .dataframe tbody tr th:only-of-type {\n",
       "        vertical-align: middle;\n",
       "    }\n",
       "\n",
       "    .dataframe tbody tr th {\n",
       "        vertical-align: top;\n",
       "    }\n",
       "\n",
       "    .dataframe thead th {\n",
       "        text-align: right;\n",
       "    }\n",
       "</style>\n",
       "<table border=\"1\" class=\"dataframe\">\n",
       "  <thead>\n",
       "    <tr style=\"text-align: right;\">\n",
       "      <th></th>\n",
       "      <th>app_jars</th>\n",
       "      <th>dataset</th>\n",
       "      <th>resource_path</th>\n",
       "      <th>output_filename</th>\n",
       "    </tr>\n",
       "  </thead>\n",
       "  <tbody>\n",
       "    <tr>\n",
       "      <th>0</th>\n",
       "      <td>miniloan</td>\n",
       "      <td>miniloan_simulation_dataset_1.csv</td>\n",
       "      <td>/mydeployment/Miniloan_ServiceRuleset</td>\n",
       "      <td>miniloan_simulation_result_1.csv</td>\n",
       "    </tr>\n",
       "    <tr>\n",
       "      <th>1</th>\n",
       "      <td>miniloan</td>\n",
       "      <td>miniloan_simulation_dataset_2.csv</td>\n",
       "      <td>/mydeployment/Miniloan_ServiceRuleset</td>\n",
       "      <td>miniloan_simulation_result_2.csv</td>\n",
       "    </tr>\n",
       "    <tr>\n",
       "      <th>2</th>\n",
       "      <td>miniloan</td>\n",
       "      <td>miniloan_simulation_dataset_3.csv</td>\n",
       "      <td>/mydeployment/Miniloan_ServiceRuleset</td>\n",
       "      <td>miniloan_simulation_result_3.csv</td>\n",
       "    </tr>\n",
       "  </tbody>\n",
       "</table>\n",
       "</div>"
      ],
      "text/plain": [
       "   app_jars                            dataset  \\\n",
       "0  miniloan  miniloan_simulation_dataset_1.csv   \n",
       "1  miniloan  miniloan_simulation_dataset_2.csv   \n",
       "2  miniloan  miniloan_simulation_dataset_3.csv   \n",
       "\n",
       "                           resource_path                   output_filename  \n",
       "0  /mydeployment/Miniloan_ServiceRuleset  miniloan_simulation_result_1.csv  \n",
       "1  /mydeployment/Miniloan_ServiceRuleset  miniloan_simulation_result_2.csv  \n",
       "2  /mydeployment/Miniloan_ServiceRuleset  miniloan_simulation_result_3.csv  "
      ]
     },
     "execution_count": 10,
     "metadata": {},
     "output_type": "execute_result"
    }
   ],
   "source": [
    "##\n",
    "# read in data\n",
    "sim = pd.read_csv(project.get_file(sim_master))\n",
    "sim.head()"
   ]
  },
  {
   "cell_type": "code",
   "execution_count": 11,
   "metadata": {},
   "outputs": [
    {
     "name": "stdout",
     "output_type": "stream",
     "text": [
      "simulation: miniloan started ..\n",
      "> data: miniloan_simulation_dataset_1.csv\n",
      "> simulation done!\n",
      "simulation: miniloan started ..\n",
      "> data: miniloan_simulation_dataset_2.csv\n",
      "> simulation done!\n",
      "simulation: miniloan started ..\n",
      "> data: miniloan_simulation_dataset_3.csv\n",
      "> simulation done!\n"
     ]
    }
   ],
   "source": [
    "def do_simulation(simdata):\n",
    "    ##\n",
    "    # read simulation data\n",
    "    dataset = simdata.dataset\n",
    "    uri_path = simdata.resource_path\n",
    "    output = simdata.output_filename\n",
    "    \n",
    "    ##\n",
    "    # load simulation data\n",
    "    print('simulation: %s started ..'%(simdata.app_jars))\n",
    "    print('> data: %s'%(simdata.dataset))\n",
    "    sql = SQLContext(sc)\n",
    "    new_decisions_pd = pd.read_csv(project.get_file(simdata.dataset))\n",
    "    request_df = sql.createDataFrame(new_decisions_pd)\n",
    "    \n",
    "    ##\n",
    "    # run simulation\n",
    "    dfResult = request_df.rdd.map(lambda r: execute(r,uri_path)).toDF()\n",
    "    df1 = dfResult.toPandas()\n",
    "    \n",
    "    ##\n",
    "    # save simulation result\n",
    "    project.save_data(simdata.output_filename, df1.to_csv(index=False),overwrite=True)\n",
    "    print('> simulation done!')\n",
    "\n",
    "##\n",
    "# start simulation\n",
    "_ = sim.apply(do_simulation, axis=1)"
   ]
  },
  {
   "cell_type": "code",
   "execution_count": null,
   "metadata": {},
   "outputs": [],
   "source": []
  }
 ],
 "metadata": {
  "kernelspec": {
   "display_name": "Python 3.6 with Spark",
   "language": "python3",
   "name": "python36"
  },
  "language_info": {
   "codemirror_mode": {
    "name": "ipython",
    "version": 3
   },
   "file_extension": ".py",
   "mimetype": "text/x-python",
   "name": "python",
   "nbconvert_exporter": "python",
   "pygments_lexer": "ipython3",
   "version": "3.6.8"
  }
 },
 "nbformat": 4,
 "nbformat_minor": 2
}
